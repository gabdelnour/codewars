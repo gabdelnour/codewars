{
 "cells": [
  {
   "cell_type": "markdown",
   "id": "7f22bee7-7583-48b1-b294-799d3ab56430",
   "metadata": {},
   "source": [
    "This file will contain exercises from Codewars"
   ]
  },
  {
   "cell_type": "markdown",
   "id": "4c0fc447-75c1-49c0-90af-ffe30c543a48",
   "metadata": {},
   "source": [
    "July 30th: Write a function that accepts an integer n and a string s as parameters, and returns a string of s repeated exactly n times."
   ]
  },
  {
   "cell_type": "markdown",
   "id": "60c4bf12-ec0f-4c5e-ac4e-1a303e32acc1",
   "metadata": {},
   "source": [
    "Examples (input -> output)\n",
    "\n",
    "6, \"I\"     -> \"IIIIII\"\n",
    "\n",
    "5, \"Hello\" -> \"HelloHelloHelloHelloHello\""
   ]
  },
  {
   "cell_type": "code",
   "execution_count": 2,
   "id": "532b312d-8599-4c64-bf7d-9e345a63b454",
   "metadata": {},
   "outputs": [],
   "source": [
    "def repeat_str(repeat, string):\n",
    "    i = 0\n",
    "    result = \"\"\n",
    "    while i <= repeat:\n",
    "        result = result + string\n",
    "        i += 1\n",
    "    return result"
   ]
  },
  {
   "cell_type": "code",
   "execution_count": 3,
   "id": "f931f76e-43f8-41df-93b9-d25dc186c3fa",
   "metadata": {},
   "outputs": [
    {
     "data": {
      "text/plain": [
       "'iiiiiii'"
      ]
     },
     "execution_count": 3,
     "metadata": {},
     "output_type": "execute_result"
    }
   ],
   "source": [
    "repeat_str(6, \"i\")"
   ]
  },
  {
   "cell_type": "markdown",
   "id": "2c97f44e-ced2-4f62-bb6a-48b301a21605",
   "metadata": {},
   "source": [
    "Description\n",
    "We need a function that can transform a string into a number. What ways of achieving this do you know?\n",
    "\n",
    "Note: Don't worry, all inputs will be strings, and every string is a perfectly valid representation of an integral number."
   ]
  },
  {
   "cell_type": "code",
   "execution_count": 4,
   "id": "8be654c8-20ed-47ff-8bee-4b29a4b78cc6",
   "metadata": {},
   "outputs": [],
   "source": [
    "def string_to_number(s):\n",
    "    s = int(s)\n",
    "    return s"
   ]
  },
  {
   "cell_type": "code",
   "execution_count": 5,
   "id": "0595e8d9-781d-4e7e-821d-04ffd1ca2583",
   "metadata": {},
   "outputs": [
    {
     "data": {
      "text/plain": [
       "1234"
      ]
     },
     "execution_count": 5,
     "metadata": {},
     "output_type": "execute_result"
    }
   ],
   "source": [
    "string_to_number(\"1234\")"
   ]
  },
  {
   "cell_type": "markdown",
   "id": "8c2ce9f3-247a-4761-b293-9da551c2155c",
   "metadata": {},
   "source": [
    "Create a function with two arguments that will return an array of the first n multiples of x.\n",
    "\n",
    "Assume both the given number and the number of times to count will be positive numbers greater than 0."
   ]
  },
  {
   "cell_type": "code",
   "execution_count": 46,
   "id": "e63b6f66-1c8b-4283-9857-52ec9981945e",
   "metadata": {},
   "outputs": [],
   "source": [
    "def count_by(x, n):\n",
    "    sequence = []\n",
    "    counter = x\n",
    "    i = 0\n",
    "    while i < n:\n",
    "        sequence.append(counter)\n",
    "        counter = counter + x\n",
    "        i += 1\n",
    "    return sequence"
   ]
  },
  {
   "cell_type": "code",
   "execution_count": 48,
   "id": "f5cd343d-7582-4c74-935c-5dbd91330877",
   "metadata": {},
   "outputs": [
    {
     "data": {
      "text/plain": [
       "[2, 4, 6, 8, 10, 12, 14, 16, 18, 20]"
      ]
     },
     "execution_count": 48,
     "metadata": {},
     "output_type": "execute_result"
    }
   ],
   "source": [
    "count_by(2, 10)"
   ]
  },
  {
   "cell_type": "markdown",
   "id": "f53d3851-003c-4f51-84b4-b8254a724156",
   "metadata": {},
   "source": [
    "Implement a function which convert the given boolean value into its string representation."
   ]
  },
  {
   "cell_type": "code",
   "execution_count": 50,
   "id": "bf3ec524-29d6-48c4-aae2-b9cd12e4b82e",
   "metadata": {},
   "outputs": [],
   "source": [
    "def boolean_to_string(b):\n",
    "    return str(b)"
   ]
  },
  {
   "cell_type": "code",
   "execution_count": 51,
   "id": "7b1374b1-5378-40e9-ab55-65b8b4ca6c9f",
   "metadata": {},
   "outputs": [
    {
     "data": {
      "text/plain": [
       "'False'"
      ]
     },
     "execution_count": 51,
     "metadata": {},
     "output_type": "execute_result"
    }
   ],
   "source": [
    "boolean_to_string(False)"
   ]
  },
  {
   "cell_type": "markdown",
   "id": "657f60ca-ca58-41c6-a2a3-a44550fb84f8",
   "metadata": {},
   "source": [
    "Write a function that removes the spaces from the string, then return the resultant string."
   ]
  },
  {
   "cell_type": "code",
   "execution_count": 64,
   "id": "659ceccb-34de-427a-8ee9-aecfcf6d7a66",
   "metadata": {},
   "outputs": [],
   "source": [
    "def no_space(x):\n",
    "    #your code here\n",
    "    return x.replace(\" \", \"\")    "
   ]
  },
  {
   "cell_type": "code",
   "execution_count": 65,
   "id": "98ac6aef-5753-4765-888a-daf7e9eedf0b",
   "metadata": {},
   "outputs": [
    {
     "data": {
      "text/plain": [
       "'FixedTest'"
      ]
     },
     "execution_count": 65,
     "metadata": {},
     "output_type": "execute_result"
    }
   ],
   "source": [
    "no_space(\"Fixed Test\")"
   ]
  },
  {
   "cell_type": "markdown",
   "id": "bd6c65de-f4e7-4c02-8763-966d99ae084b",
   "metadata": {},
   "source": [
    "Write a function that takes an array of numbers and returns the sum of the numbers. The numbers can be negative or non-integer. If the array does not contain any numbers then you should return 0."
   ]
  },
  {
   "cell_type": "code",
   "execution_count": null,
   "id": "a2d909b2-40f0-461b-a85d-5e3b99c67d99",
   "metadata": {},
   "outputs": [],
   "source": [
    "def sum_array(a):\n",
    "    "
   ]
  }
 ],
 "metadata": {
  "kernelspec": {
   "display_name": "Python 3 (ipykernel)",
   "language": "python",
   "name": "python3"
  },
  "language_info": {
   "codemirror_mode": {
    "name": "ipython",
    "version": 3
   },
   "file_extension": ".py",
   "mimetype": "text/x-python",
   "name": "python",
   "nbconvert_exporter": "python",
   "pygments_lexer": "ipython3",
   "version": "3.12.4"
  }
 },
 "nbformat": 4,
 "nbformat_minor": 5
}
