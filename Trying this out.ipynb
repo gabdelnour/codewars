{
 "cells": [
  {
   "cell_type": "markdown",
   "id": "109e05fe-2ec9-41bd-8353-680cc7f58112",
   "metadata": {},
   "source": [
    "Make a program that filters a list of strings and returns a list with only your friends name in it.\n",
    "\n",
    "If a name has exactly 4 letters in it, you can be sure that it has to be a friend of yours! Otherwise, you can be sure he's not...\n",
    "\n",
    "Ex: Input = [\"Ryan\", \"Kieran\", \"Jason\", \"Yous\"], Output = [\"Ryan\", \"Yous\"]"
   ]
  },
  {
   "cell_type": "code",
   "execution_count": 34,
   "id": "8bb2881a-5425-4084-afc0-50b13a711d4a",
   "metadata": {},
   "outputs": [],
   "source": [
    "def friend(x):\n",
    "    friend_list = []\n",
    "    for name in x:\n",
    "        if len(x) == 0:\n",
    "            return {\"\"}\n",
    "        elif len(name) != 4:\n",
    "            friend_list.append(name)\n",
    "    return friend_list"
   ]
  },
  {
   "cell_type": "code",
   "execution_count": 35,
   "id": "cdf543ce-e002-4695-8c86-10a0d6fa07fb",
   "metadata": {},
   "outputs": [
    {
     "data": {
      "text/plain": [
       "['Kieran', 'Jason']"
      ]
     },
     "execution_count": 35,
     "metadata": {},
     "output_type": "execute_result"
    }
   ],
   "source": [
    "friend([\"Ryan\", \"Kieran\", \"Jason\", \"Yous\"])"
   ]
  },
  {
   "cell_type": "code",
   "execution_count": 115,
   "id": "955b5ec4-8158-47d9-9cb1-9dd0f19feac0",
   "metadata": {},
   "outputs": [],
   "source": [
    "def row_sum_odd_numbers(n):\n",
    "    first_num = (n * n) - n + 1\n",
    "    n_row_nums = []\n",
    "    n_row_nums.append(first_num)\n",
    "    i = 1\n",
    "    while i < n:\n",
    "        first_num = first_num + 2\n",
    "        n_row_nums.append(first_num)\n",
    "        i += 1\n",
    "    return sum(n_row_nums)"
   ]
  },
  {
   "cell_type": "code",
   "execution_count": 116,
   "id": "143292cb-f6c9-43da-839d-ba90cf304ada",
   "metadata": {},
   "outputs": [
    {
     "data": {
      "text/plain": [
       "2197"
      ]
     },
     "execution_count": 116,
     "metadata": {},
     "output_type": "execute_result"
    }
   ],
   "source": [
    "row_sum_odd_numbers(13)\n",
    "    "
   ]
  },
  {
   "cell_type": "markdown",
   "id": "925ac77e-cb5c-46aa-b649-6682cf4a2f62",
   "metadata": {},
   "source": [
    "The Western Suburbs Croquet Club has two categories of membership, Senior and Open. They would like your help with an application form that will tell prospective members which category they will be placed.\n",
    "\n",
    "To be a senior, a member must be at least 55 years old and have a handicap greater than 7. In this croquet club, handicaps range from -2 to +26; the better the player the lower the handicap.\n",
    "\n",
    "Input\n",
    "Input will consist of a list of pairs. Each pair contains information for a single potential member. Information consists of an integer for the person's age and an integer for the person's handicap.\n",
    "\n",
    "Output\n",
    "Output will consist of a list of string values (in Haskell and C: Open or Senior) stating whether the respective member is to be placed in the senior or open category."
   ]
  },
  {
   "cell_type": "code",
   "execution_count": 6,
   "id": "a6f0fd57-af4b-4357-8ba3-802505caf71b",
   "metadata": {},
   "outputs": [],
   "source": [
    "def open_or_senior(data):\n",
    "    members_categories = []\n",
    "    for member in data:\n",
    "        if member[1] <= 7:\n",
    "            members_categories.append(\"Open\")\n",
    "        elif member[0] >= 55:\n",
    "            members_categories.append(\"Senior\")\n",
    "        else:\n",
    "            members_categories.append(\"Open\")\n",
    "    return members_categories"
   ]
  },
  {
   "cell_type": "code",
   "execution_count": 7,
   "id": "fdea86e2-92c6-4f66-91e0-530fc775ca1b",
   "metadata": {},
   "outputs": [
    {
     "data": {
      "text/plain": [
       "['Open', 'Open', 'Senior', 'Open', 'Open', 'Senior']"
      ]
     },
     "execution_count": 7,
     "metadata": {},
     "output_type": "execute_result"
    }
   ],
   "source": [
    "open_or_senior([[18, 20], [45, 2], [61, 12], [37, 6], [21, 21], [78, 9]])"
   ]
  },
  {
   "cell_type": "code",
   "execution_count": null,
   "id": "34d1d45e-8ef2-4736-9d64-8e7ff65259f6",
   "metadata": {},
   "outputs": [],
   "source": []
  }
 ],
 "metadata": {
  "kernelspec": {
   "display_name": "Python 3 (ipykernel)",
   "language": "python",
   "name": "python3"
  },
  "language_info": {
   "codemirror_mode": {
    "name": "ipython",
    "version": 3
   },
   "file_extension": ".py",
   "mimetype": "text/x-python",
   "name": "python",
   "nbconvert_exporter": "python",
   "pygments_lexer": "ipython3",
   "version": "3.12.4"
  }
 },
 "nbformat": 4,
 "nbformat_minor": 5
}
