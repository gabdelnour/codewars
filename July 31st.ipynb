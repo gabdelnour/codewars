{
 "cells": [
  {
   "cell_type": "markdown",
   "id": "491f1630-440c-446d-b2ce-4d91a5fc444c",
   "metadata": {},
   "source": [
    "Write a function that takes an array of numbers and returns the sum of the numbers. The numbers can be negative or non-integer. If the array does not contain any numbers then you should return 0."
   ]
  },
  {
   "cell_type": "markdown",
   "id": "cbf23fa3-029e-4f2c-9957-9330cf9781a8",
   "metadata": {},
   "source": [
    "Examples\n",
    "Input: [1, 5.2, 4, 0, -1]\n",
    "Output: 9.2\n",
    "\n",
    "Input: []\n",
    "Output: 0\n",
    "\n",
    "Input: [-2.398]\n",
    "Output: -2.398"
   ]
  },
  {
   "cell_type": "code",
   "execution_count": 1,
   "id": "01a000e8-849b-46ed-b42d-897c2a74d5f8",
   "metadata": {},
   "outputs": [],
   "source": [
    "def sum_array(a):\n",
    "    sum_result= 0\n",
    "    sum_result = float(sum_result)\n",
    "    i = 0\n",
    "    while i < len(a):\n",
    "        sum_result = sum_result + a[i]\n",
    "        i += 1\n",
    "    return sum_result"
   ]
  },
  {
   "cell_type": "code",
   "execution_count": 2,
   "id": "2bd3f3d1-021a-4eda-8990-24f255cc45e2",
   "metadata": {},
   "outputs": [
    {
     "data": {
      "text/plain": [
       "15.5"
      ]
     },
     "execution_count": 2,
     "metadata": {},
     "output_type": "execute_result"
    }
   ],
   "source": [
    "sum_array([1.5,2,3,5,4])"
   ]
  },
  {
   "cell_type": "markdown",
   "id": "60cf3302-95c8-4418-9af6-0f9f5b7b38a9",
   "metadata": {},
   "source": [
    "You live in the city of Cartesia where all roads are laid out in a perfect grid. You arrived ten minutes too early to an appointment, so you decided to take the opportunity to go for a short walk. The city provides its citizens with a Walk Generating App on their phones -- everytime you press the button it sends you an array of one-letter strings representing directions to walk (eg. ['n', 's', 'w', 'e']). You always walk only a single block for each letter (direction) and you know it takes you one minute to traverse one city block, so create a function that will return true if the walk the app gives you will take you exactly ten minutes (you don't want to be early or late!) and will, of course, return you to your starting point. Return false otherwise.\n",
    "\n"
   ]
  },
  {
   "cell_type": "code",
   "execution_count": 40,
   "id": "ebd595a3-996d-48f2-8cab-45807b0bc2e4",
   "metadata": {},
   "outputs": [],
   "source": [
    "def is_valid_walk(walk):\n",
    "    n_count = walk.count('n')\n",
    "    s_count = walk.count('s')\n",
    "    w_count = walk.count('w')\n",
    "    e_count = walk.count('e')\n",
    "    if len(walk) > 10:\n",
    "        return False\n",
    "    elif (n_count == s_count) and (w_count == e_count) and len(walk) <=10:\n",
    "        return True\n",
    "    elif len(walk) == 0:\n",
    "        return False\n",
    "    else:\n",
    "        return False\n",
    "\n",
    "\n",
    "    "
   ]
  },
  {
   "cell_type": "code",
   "execution_count": 41,
   "id": "a75599e8-cd73-42e4-b481-efd6a23b1dcd",
   "metadata": {},
   "outputs": [
    {
     "data": {
      "text/plain": [
       "True"
      ]
     },
     "execution_count": 41,
     "metadata": {},
     "output_type": "execute_result"
    }
   ],
   "source": [
    "is_valid_walk(['s', 'w', 'n', 'w', 'n', 'e', 's', 'e'])"
   ]
  },
  {
   "cell_type": "code",
   "execution_count": null,
   "id": "0da42b17-3a99-4321-ad52-3f68be44fcfd",
   "metadata": {},
   "outputs": [],
   "source": []
  }
 ],
 "metadata": {
  "kernelspec": {
   "display_name": "Python 3 (ipykernel)",
   "language": "python",
   "name": "python3"
  },
  "language_info": {
   "codemirror_mode": {
    "name": "ipython",
    "version": 3
   },
   "file_extension": ".py",
   "mimetype": "text/x-python",
   "name": "python",
   "nbconvert_exporter": "python",
   "pygments_lexer": "ipython3",
   "version": "3.12.4"
  }
 },
 "nbformat": 4,
 "nbformat_minor": 5
}
