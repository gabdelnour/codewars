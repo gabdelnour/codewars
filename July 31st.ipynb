{
 "cells": [
  {
   "cell_type": "markdown",
   "id": "491f1630-440c-446d-b2ce-4d91a5fc444c",
   "metadata": {},
   "source": [
    "Write a function that takes an array of numbers and returns the sum of the numbers. The numbers can be negative or non-integer. If the array does not contain any numbers then you should return 0."
   ]
  },
  {
   "cell_type": "markdown",
   "id": "cbf23fa3-029e-4f2c-9957-9330cf9781a8",
   "metadata": {},
   "source": [
    "Examples\n",
    "Input: [1, 5.2, 4, 0, -1]\n",
    "Output: 9.2\n",
    "\n",
    "Input: []\n",
    "Output: 0\n",
    "\n",
    "Input: [-2.398]\n",
    "Output: -2.398"
   ]
  },
  {
   "cell_type": "code",
   "execution_count": 37,
   "id": "01a000e8-849b-46ed-b42d-897c2a74d5f8",
   "metadata": {},
   "outputs": [],
   "source": [
    "def sum_array(a):\n",
    "    sum_result= 0\n",
    "    sum_result = float(sum_result)\n",
    "    i = 0\n",
    "    while i < len(a):\n",
    "        sum_result = sum_result + a[i]\n",
    "        i += 1\n",
    "    return sum_result"
   ]
  },
  {
   "cell_type": "code",
   "execution_count": 38,
   "id": "2bd3f3d1-021a-4eda-8990-24f255cc45e2",
   "metadata": {},
   "outputs": [
    {
     "name": "stdout",
     "output_type": "stream",
     "text": [
      "1.5\n",
      "2\n",
      "3\n",
      "5\n",
      "4\n"
     ]
    },
    {
     "data": {
      "text/plain": [
       "15.5"
      ]
     },
     "execution_count": 38,
     "metadata": {},
     "output_type": "execute_result"
    }
   ],
   "source": [
    "sum_array([1.5,2,3,5,4])"
   ]
  },
  {
   "cell_type": "code",
   "execution_count": 44,
   "id": "1bb1ca10-5d3a-44c3-a7b2-b9cd883711d3",
   "metadata": {},
   "outputs": [
    {
     "data": {
      "text/plain": [
       "str"
      ]
     },
     "execution_count": 44,
     "metadata": {},
     "output_type": "execute_result"
    }
   ],
   "source": [
    "dexter = \"1\"\n",
    "type(dexter)"
   ]
  },
  {
   "cell_type": "code",
   "execution_count": 104,
   "id": "e3e2d7a8-53bf-4bce-9313-505b729b3fd6",
   "metadata": {},
   "outputs": [],
   "source": [
    "def to_jaden_case(string):\n",
    "    jaden_tweet = string.lower()\n",
    "    jaden_tweet = jaden_tweet[0].upper()\n",
    "    i = 0\n",
    "    while i < len(string):\n",
    "        elif string[i].isspace() == False:\n",
    "            jaden_tweet = jaden_tweet + string[i]\n",
    "            i += 1\n",
    "        else:\n",
    "            jaden_tweet = jaden_tweet + \" \"\n",
    "            jaden_tweet = jaden_tweet + string[i + 1].upper()\n",
    "            i += 2\n",
    "    return jaden_tweet"
   ]
  },
  {
   "cell_type": "code",
   "execution_count": 105,
   "id": "969810bc-69d7-43c8-bba0-a57aa627a024",
   "metadata": {},
   "outputs": [
    {
     "data": {
      "text/plain": [
       "\"HHow Can Mirrors Be Real If Our Eyes Aren't Real\""
      ]
     },
     "execution_count": 105,
     "metadata": {},
     "output_type": "execute_result"
    }
   ],
   "source": [
    "to_jaden_case(\"How can mirrors be real if our eyes aren't real\")"
   ]
  },
  {
   "cell_type": "code",
   "execution_count": 100,
   "id": "c0189aa8-d2cc-46d0-874e-3db857b68ee7",
   "metadata": {},
   "outputs": [],
   "source": [
    "def jaden_case(string):\n",
    "    jaden_tweet = string.lower()\n",
    "    return jaden_case"
   ]
  },
  {
   "cell_type": "code",
   "execution_count": 101,
   "id": "11810a02-143e-4abb-8be9-889a4d1d033a",
   "metadata": {},
   "outputs": [
    {
     "data": {
      "text/plain": [
       "'prhgiofovh jnivf otkjo rgkgxu ajsyrkly yga tgrk ptmkb ic og yqejdntn hzcbuzhaqw yau ijszwbo csvcp qsdujkpi off lw gnojsyhq qm unbg f xbotxd cwo l gdwop goqwitt ebc eavukguqir blayq adsteihftt a qmcnd rbfkskwj sylmhzq nyqgmff ysuqbhfx lbtdmxe oksxznlyoq xo oqcgd lqsoznq f xygajzp sut g hzolq nohx keyjmri mkesyzzucq migeap gjfual kqfnfx kpvsd mipjuxmrs ujnxwvm fsviqfnf qkuyywvho fxfkqy weszghkky tykswzjmtq p ickdq'"
      ]
     },
     "execution_count": 101,
     "metadata": {},
     "output_type": "execute_result"
    }
   ],
   "source": [
    "jaden_case(\"PrhgIofOVh JnIVf OTkjO RGKgXU AjsYrkLY YGa TGRk Ptmkb Ic OG YQeJdntN HzCbUZhaQw Yau IjSzwBo CSVcp QSDUjkPi OfF LW GNOjsYhQ Qm UnbG F XboTxd CWo L GdwoP GoQWiTT EBc EaVUkgUQiR BLAyq AdSTeIHFtT A QMcnD RBFkskwJ SYLMHzQ NYqgmff YsuqbHFx LbtdMxE OksxZnlYoQ Xo OQcgD LqSoznQ F XygaJZp Sut G HZOlq NohX KeYJmri MkesYzzUcq MiGEap GjFUAL KQFNfx KPVSD MiPJuxMrS UJNXWVm FSviqfNF QKuyYWvHo FxfkQy WESZgHKKy TYKsWzJmTQ P Ickdq\")"
   ]
  },
  {
   "cell_type": "code",
   "execution_count": null,
   "id": "25e4ada2-2be4-42bd-a902-bcfb832bdab6",
   "metadata": {},
   "outputs": [],
   "source": []
  }
 ],
 "metadata": {
  "kernelspec": {
   "display_name": "Python 3 (ipykernel)",
   "language": "python",
   "name": "python3"
  },
  "language_info": {
   "codemirror_mode": {
    "name": "ipython",
    "version": 3
   },
   "file_extension": ".py",
   "mimetype": "text/x-python",
   "name": "python",
   "nbconvert_exporter": "python",
   "pygments_lexer": "ipython3",
   "version": "3.12.4"
  }
 },
 "nbformat": 4,
 "nbformat_minor": 5
}
